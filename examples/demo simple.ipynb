{
 "cells": [
  {
   "cell_type": "code",
   "execution_count": null,
   "metadata": {
    "collapsed": false
   },
   "outputs": [],
   "source": [
    "from IPython.html import widgets\n",
    "from IPython.display import display\n",
    "from eventful_graph import EventfulGraph\n",
    "from widget_forcedirectedgraph import ForceDirectedGraphWidget, publish_js\n",
    "publish_js()"
   ]
  },
  {
   "cell_type": "markdown",
   "metadata": {},
   "source": [
    "# Test"
   ]
  },
  {
   "cell_type": "code",
   "execution_count": null,
   "metadata": {
    "collapsed": false
   },
   "outputs": [],
   "source": [
    "G = EventfulGraph()\n",
    "d3 = ForceDirectedGraphWidget(G)\n",
    "display(d3)"
   ]
  },
  {
   "cell_type": "markdown",
   "metadata": {},
   "source": [
    "The following code creates an animation of some of the plot's properties."
   ]
  },
  {
   "cell_type": "code",
   "execution_count": null,
   "metadata": {
    "collapsed": false
   },
   "outputs": [],
   "source": [
    "# Redisplay\n",
    "display(d3)\n",
    "\n",
    "import time\n",
    "G.node.clear()\n",
    "G.add_node(1, fill=\"red\", stroke=\"black\", color='black', label='A')\n",
    "time.sleep(1.0)\n",
    "\n",
    "G.add_node(2, fill=\"gold\", stroke=\"black\", color='black', r=20, font_size='24pt', label='B')\n",
    "time.sleep(1.0)\n",
    "\n",
    "G.add_node(3, fill=\"green\", stroke=\"black\", color='white', label='C')\n",
    "time.sleep(1.0)\n",
    "\n",
    "G.add_edges_from([(1,2),(1,3), (2,3)], stroke=\"#aaa\", strokewidth=\"1px\", distance=200, strength=0.5)\n",
    "time.sleep(1.0)\n",
    "\n",
    "G.adj[1][2]['distance'] = 20\n",
    "time.sleep(1.0)\n",
    "\n",
    "G.adj[1][3]['distance'] = 20\n",
    "time.sleep(1.0)\n",
    "\n",
    "G.adj[2][3]['distance'] = 20\n",
    "time.sleep(1.0)\n",
    "\n",
    "G.node[1]['r'] = 16\n",
    "time.sleep(0.3)\n",
    "G.node[1]['r'] = 8\n",
    "G.node[2]['r'] = 16\n",
    "time.sleep(0.3)\n",
    "G.node[2]['r'] = 20\n",
    "G.node[3]['r'] = 16\n",
    "time.sleep(0.3)\n",
    "G.node[3]['r'] = 8\n",
    "\n",
    "G.node[1]['fill'] = 'purple'\n",
    "time.sleep(0.3)\n",
    "G.node[1]['fill'] = 'red'\n",
    "G.node[2]['fill'] = 'purple'\n",
    "time.sleep(0.3)\n",
    "G.node[2]['fill'] = 'gold'\n",
    "G.node[3]['fill'] = 'purple'\n",
    "time.sleep(0.3)\n",
    "G.node[3]['fill'] = 'green'\n",
    "time.sleep(1.0)\n",
    "\n",
    "G.node.clear()\n",
    "time.sleep(1.0)\n",
    "\n",
    "floating_container.close()\n"
   ]
  }
 ],
 "metadata": {
  "kernelspec": {
   "display_name": "IPython (Python 2)",
   "name": "python2"
  },
  "language_info": {
   "codemirror_mode": {
    "name": "ipython",
    "version": 2
   },
   "file_extension": ".py",
   "mimetype": "text/x-python",
   "name": "python",
   "nbconvert_exporter": "python",
   "pygments_lexer": "ipython2",
   "version": "2.7.6"
  },
  "signature": "sha256:3d33d695b9e701dadcb98ad55f82d69ad60382e7bffd455d4bd56581808782e3"
 },
 "nbformat": 4,
 "nbformat_minor": 0
}