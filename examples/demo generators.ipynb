{
 "cells": [
  {
   "cell_type": "code",
   "execution_count": null,
   "metadata": {
    "collapsed": false
   },
   "outputs": [],
   "source": [
    "from IPython.html import widgets\n",
    "from IPython.display import display\n",
    "from eventful_graph import EventfulGraph, empty_eventfulgraph_hook\n",
    "from widget_forcedirectedgraph import ForceDirectedGraphWidget, publish_js\n",
    "publish_js()"
   ]
  },
  {
   "cell_type": "markdown",
   "metadata": {},
   "source": [
    "Hook into the random_graphs NetworkX code. "
   ]
  },
  {
   "cell_type": "code",
   "execution_count": null,
   "metadata": {
    "collapsed": false
   },
   "outputs": [],
   "source": [
    "from networkx.generators import random_graphs\n",
    "from networkx.generators import classic\n",
    "\n",
    "# Add a listener to the eventful graph's construction method.\n",
    "# If an eventful graph is created, build and show a widget\n",
    "# for the graph.\n",
    "def handle_graph(graph):\n",
    "    print(graph.graph._sleep)\n",
    "    graph_widget = ForceDirectedGraphWidget(graph)\n",
    "    display(graph_widget)\n",
    "EventfulGraph.on_constructed(handle_graph)\n",
    "\n",
    "# Replace the empty graph of the networkx classic module with\n",
    "# the eventful graph type.\n",
    "random_graphs.empty_graph = empty_eventfulgraph_hook(sleep=0.2)"
   ]
  },
  {
   "cell_type": "markdown",
   "metadata": {},
   "source": [
    "## Barabasi Albert"
   ]
  },
  {
   "cell_type": "code",
   "execution_count": null,
   "metadata": {
    "collapsed": false
   },
   "outputs": [],
   "source": [
    "random_graphs.barabasi_albert_graph(15, 1)"
   ]
  },
  {
   "cell_type": "code",
   "execution_count": null,
   "metadata": {
    "collapsed": false
   },
   "outputs": [],
   "source": [
    "random_graphs.barabasi_albert_graph(15, 2)"
   ]
  },
  {
   "cell_type": "code",
   "execution_count": null,
   "metadata": {
    "collapsed": false
   },
   "outputs": [],
   "source": [
    "random_graphs.barabasi_albert_graph(10, 5)"
   ]
  },
  {
   "cell_type": "markdown",
   "metadata": {},
   "source": [
    "## Newman Watts Strogatz"
   ]
  },
  {
   "cell_type": "code",
   "execution_count": null,
   "metadata": {
    "collapsed": false
   },
   "outputs": [],
   "source": [
    "random_graphs.newman_watts_strogatz_graph(15, 3, 0.25)"
   ]
  },
  {
   "cell_type": "markdown",
   "metadata": {},
   "source": [
    "## Barbell"
   ]
  },
  {
   "cell_type": "code",
   "execution_count": null,
   "metadata": {
    "collapsed": false
   },
   "outputs": [],
   "source": [
    "classic.barbell_graph(5,0,create_using=EventfulGraph(sleep=0.1))"
   ]
  },
  {
   "cell_type": "markdown",
   "metadata": {},
   "source": [
    "## Circular Ladder"
   ]
  },
  {
   "cell_type": "code",
   "execution_count": null,
   "metadata": {
    "collapsed": false
   },
   "outputs": [],
   "source": [
    "classic.circular_ladder_graph(5,create_using=EventfulGraph(sleep=0.1))"
   ]
  },
  {
   "cell_type": "code",
   "execution_count": null,
   "metadata": {
    "collapsed": false
   },
   "outputs": [],
   "source": [
    "classic.circular_ladder_graph(10,create_using=EventfulGraph(sleep=0.1))"
   ]
  },
  {
   "cell_type": "markdown",
   "metadata": {},
   "source": [
    "## Ladder"
   ]
  },
  {
   "cell_type": "code",
   "execution_count": null,
   "metadata": {
    "collapsed": false
   },
   "outputs": [],
   "source": [
    "classic.ladder_graph(10,create_using=EventfulGraph(sleep=0.1))"
   ]
  },
  {
   "cell_type": "markdown",
   "metadata": {},
   "source": [
    "## Star"
   ]
  },
  {
   "cell_type": "code",
   "execution_count": null,
   "metadata": {
    "collapsed": false
   },
   "outputs": [],
   "source": [
    "classic.star_graph(10,create_using=EventfulGraph(sleep=0.1))"
   ]
  }
 ],
 "metadata": {
  "kernelspec": {
   "display_name": "IPython (Python 2)",
   "name": "python2"
  },
  "language_info": {
   "codemirror_mode": {
    "name": "ipython",
    "version": 2
   },
   "file_extension": ".py",
   "mimetype": "text/x-python",
   "name": "python",
   "nbconvert_exporter": "python",
   "pygments_lexer": "ipython2",
   "version": "2.7.6"
  },
  "signature": "sha256:bfa91fd270e207e569225700613e56327535303da639c00fa182eab933001ba0"
 },
 "nbformat": 4,
 "nbformat_minor": 0
}