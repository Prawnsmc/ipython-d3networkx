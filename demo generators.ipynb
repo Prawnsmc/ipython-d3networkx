{
 "metadata": {
  "name": "",
  "signature": "sha256:a6dc849526063010919ecc97e0bd4017403bd4ed109a045892863ca7c3fc7bf2"
 },
 "nbformat": 3,
 "nbformat_minor": 0,
 "worksheets": [
  {
   "cells": [
    {
     "cell_type": "code",
     "collapsed": false,
     "input": [
      "from IPython.html import widgets\n",
      "from IPython.display import display\n",
      "from eventful_graph import EventfulGraph, empty_eventfulgraph_hook\n",
      "from widget_forcedirectedgraph import ForceDirectedGraphWidget, publish_js\n",
      "publish_js()"
     ],
     "language": "python",
     "metadata": {},
     "outputs": [
      {
       "javascript": [
        "require([\"//cdnjs.cloudflare.com/ajax/libs/d3/3.4.1/d3.min.js\", \"notebook/js/widgetmanager\"], function(d3, WidgetManager){\n",
        "\n",
        "    // Define the D3ForceDirectedGraphView\n",
        "    var D3ForceDirectedGraphView = IPython.DOMWidgetView.extend({\n",
        "        \n",
        "        render: function(){\n",
        "            this.guid = 'd3force' + IPython.utils.uuid();\n",
        "            this.setElement($('<div />', {id: this.guid}));\n",
        "            \n",
        "            this.model.on('msg:custom', this.on_msg, this);\n",
        "            this.has_drawn = false;\n",
        "            \n",
        "            // Wait for element to be added to the DOM\n",
        "            var that = this;\n",
        "            setTimeout(function() {\n",
        "                that.update();\n",
        "            }, 0);\n",
        "        },\n",
        "        \n",
        "        try_add_node: function(id){\n",
        "            var index = this.find_node(id);\n",
        "            if (index == -1) {\n",
        "                var node = {id: id};\n",
        "                this.nodes.push(node);\n",
        "                return node;\n",
        "            } else {\n",
        "                return this.nodes[index];\n",
        "            }\n",
        "        },\n",
        "        \n",
        "        update_node: function(node, attributes) {\n",
        "            if (node !== null) {\n",
        "                for (var key in attributes) {\n",
        "                    node[key] = attributes[key];\n",
        "                }\n",
        "                this._update_node(d3.select('#' + this.guid + node.id));\n",
        "            }\n",
        "        },\n",
        "                \n",
        "        remove_node: function(id){\n",
        "            this.remove_links_to(id);\n",
        "            \n",
        "            var found_index = this.find_node(id);\n",
        "            if (found_index>=0) {\n",
        "                this.nodes.splice(found_index, 1);\n",
        "            }\n",
        "        },\n",
        "        \n",
        "        find_node: function(id){\n",
        "            var found_index = -1;\n",
        "            for (var index in this.nodes) {\n",
        "                if (this.nodes[index].id == id) {\n",
        "                    found_index = index;\n",
        "                    break;\n",
        "                }\n",
        "            }\n",
        "            return found_index;\n",
        "        },\n",
        "        \n",
        "        find_link: function(source_id, target_id){\n",
        "            for (var index in this.links) {\n",
        "                if (this.links[index].source.id == source_id && this.links[index].target.id == target_id) {\n",
        "                    return index;\n",
        "                }\n",
        "            }\n",
        "            return -1;\n",
        "        },\n",
        "        \n",
        "        try_add_link: function(source_id, target_id){\n",
        "            var index = this.find_link(source_id, target_id);\n",
        "            if (index == -1) {\n",
        "                var source_node = this.try_add_node(source_id);\n",
        "                var target_node = this.try_add_node(target_id);\n",
        "                var new_link = {source: source_node, target: target_node};\n",
        "                this.links.push(new_link);\n",
        "                return new_link;\n",
        "            } else {\n",
        "                return this.links[index]\n",
        "            }\n",
        "        },\n",
        "        \n",
        "        update_link: function(link, attributes){\n",
        "            if (link != null) {\n",
        "                for (var key in attributes) {\n",
        "                    link[key] = attributes[key];\n",
        "                }\n",
        "                this._update_edge(d3.select('#' + this.guid + link.source.id + \"-\" + link.target.id));\n",
        "            }\n",
        "        },\n",
        "        \n",
        "        remove_links: function(source_id){\n",
        "            var found_indicies = [];\n",
        "            for (var index in this.links) {\n",
        "                if (this.links[index].source.id == source_id) {\n",
        "                    found_indicies.push(index);\n",
        "                }\n",
        "            }\n",
        "            found_indicies.reverse();\n",
        "            \n",
        "            for (var index in found_indicies) {\n",
        "                this.links.splice(index, 1);\n",
        "            };\n",
        "        },\n",
        "        \n",
        "        remove_links_to: function(id){\n",
        "            var found_indicies = [];\n",
        "            for (var index in this.links) {\n",
        "                if (this.links[index].source.id == id || this.links[index].target.id == id) {\n",
        "                    found_indicies.push(index);\n",
        "                }\n",
        "            }\n",
        "            found_indicies.reverse();\n",
        "            \n",
        "            for (var index in found_indicies) {\n",
        "                this.links.splice(index, 1);\n",
        "            };\n",
        "        },\n",
        "        \n",
        "        on_msg: function(content){\n",
        "            this.update();\n",
        "            \n",
        "            var dict = content.dict;\n",
        "            var action = content.action;\n",
        "            var key = content.key;\n",
        "            \n",
        "            if (dict=='node') {\n",
        "                if (action=='add' || action=='set') {\n",
        "                    this.update_node(this.try_add_node(key), content.value)\n",
        "                } else if (action=='del') {\n",
        "                    this.remove_node(key);\n",
        "                }\n",
        "                \n",
        "            } else if (dict=='adj') {\n",
        "                if (action=='add' || action=='set') {\n",
        "                    var links = content.value;\n",
        "                    for (var target_id in links) {\n",
        "                        this.update_link(this.try_add_link(key, target_id), links[target_id]);\n",
        "                    }\n",
        "                } else if (action=='del') {\n",
        "                    this.remove_links(key);\n",
        "                }\n",
        "            }\n",
        "            this.start();\n",
        "        },\n",
        "        \n",
        "        start: function() {\n",
        "            var node = this.svg.selectAll(\".node\"),\n",
        "                link = this.svg.selectAll(\".link\");\n",
        "            \n",
        "            var link = link.data(this.force.links(), function(d) { return d.source.id + \"-\" + d.target.id; });\n",
        "            this._update_edge(link.enter().insert(\"line\", \".node\"))\n",
        "            link.exit().remove();\n",
        "            \n",
        "            var node = node.data(this.force.nodes(), function(d) { return d.id;});\n",
        "            var that = this;\n",
        "            this._update_node(node.enter().append(\"circle\"));\n",
        "            node.exit().remove();\n",
        "            \n",
        "            this.force.start();\n",
        "        },\n",
        "        \n",
        "        _update_node: function(node) {\n",
        "            var that = this;\n",
        "            node\n",
        "                .attr(\"id\", function(d) { return that.guid + d.id; })\n",
        "                .attr(\"class\", function(d) { return \"node \" + d.id; })\n",
        "                .attr(\"r\", function(d) {\n",
        "                    if (d.r == undefined) {\n",
        "                        return 8; \n",
        "                    } else {\n",
        "                        return d.r;\n",
        "                    }\n",
        "                    \n",
        "                })\n",
        "                .style(\"fill\", function(d) {\n",
        "                    if (d.fill == undefined) {\n",
        "                        return that.color(d.group); \n",
        "                    } else {\n",
        "                        return d.fill;\n",
        "                    }\n",
        "                    \n",
        "                })\n",
        "                .style(\"stroke\", function(d) {\n",
        "                    if (d.stroke == undefined) {\n",
        "                        return \"#FFF\"; \n",
        "                    } else {\n",
        "                        return d.stroke;\n",
        "                    }\n",
        "                    \n",
        "                })\n",
        "                .style(\"stroke-width\", function(d) {\n",
        "                    if (d.strokewidth == undefined) {\n",
        "                        return \"#FFF\"; \n",
        "                    } else {\n",
        "                        return d.strokewidth;\n",
        "                    }\n",
        "                    \n",
        "                })\n",
        "                .call(this.force.drag);\n",
        "        },\n",
        "        \n",
        "        _update_edge: function(edge) {\n",
        "            var that = this;\n",
        "            edge\n",
        "                .attr(\"id\", function(d) { return that.guid + d.source.id + \"-\" + d.target.id; })\n",
        "                .attr(\"class\", \"link\")\n",
        "                .style(\"stroke-width\", function(d) {\n",
        "                    if (d.strokewidth == undefined) {\n",
        "                        return \"1.5px\"; \n",
        "                    } else {\n",
        "                        return d.strokewidth;\n",
        "                    }\n",
        "                    \n",
        "                })\n",
        "                .style('stroke', function(d) {\n",
        "                    if (d.stroke == undefined) {\n",
        "                        return \"#999\"; \n",
        "                    } else {\n",
        "                        return d.stroke;\n",
        "                    }\n",
        "                    \n",
        "                });\n",
        "        },\n",
        "        \n",
        "        tick: function() {\n",
        "            var node = this.svg.selectAll(\".node\"),\n",
        "                link = this.svg.selectAll(\".link\");\n",
        "            \n",
        "            link.attr(\"x1\", function(d) { return d.source.x; })\n",
        "                .attr(\"y1\", function(d) { return d.source.y; })\n",
        "                .attr(\"x2\", function(d) { return d.target.x; })\n",
        "                .attr(\"y2\", function(d) { return d.target.y; });\n",
        "        \n",
        "            node.attr(\"cx\", function(d) { return d.x; })\n",
        "                .attr(\"cy\", function(d) { return d.y; });\n",
        "        },\n",
        "        \n",
        "        update: function(){\n",
        "            if (!this.has_drawn) {\n",
        "                this.has_drawn = true;\n",
        "                var width = this.model.get('width'),\n",
        "                    height = this.model.get('height');\n",
        "                \n",
        "                this.color = d3.scale.category20();\n",
        "                \n",
        "                this.nodes = [];\n",
        "                this.links = [];\n",
        "                \n",
        "                this.force = d3.layout.force()\n",
        "                    .nodes(this.nodes)\n",
        "                    .links(this.links)\n",
        "                    .charge(function (d) {\n",
        "                        if (d.charge === undefined) {\n",
        "                            return -260;\n",
        "                        } else {\n",
        "                            return d.charge;\n",
        "                        }\n",
        "                    })\n",
        "                    .linkDistance(function (d) {\n",
        "                        if (d.distance === undefined) {\n",
        "                            return 30;\n",
        "                        } else {\n",
        "                            return d.distance;\n",
        "                        }\n",
        "                    })\n",
        "                    .linkStrength(function (d) {\n",
        "                        if (d.strength === undefined) {\n",
        "                            return 0.2;\n",
        "                        } else {\n",
        "                            return d.strength;\n",
        "                        }\n",
        "                    })\n",
        "                    .size([width, height])\n",
        "                    .on(\"tick\", $.proxy(this.tick, this));\n",
        "                \n",
        "                this.svg = d3.select(\"#\" + this.guid).append(\"svg\")\n",
        "                    .attr(\"width\", width)\n",
        "                    .attr(\"height\", height);\n",
        "                \n",
        "                var that = this;\n",
        "                setTimeout(function() {\n",
        "                    that.start();\n",
        "                }, 0);\n",
        "            }\n",
        "            \n",
        "            return D3ForceDirectedGraphView.__super__.update.apply(this);\n",
        "        },\n",
        "        \n",
        "    });\n",
        "        \n",
        "    // Register the D3ForceDirectedGraphView with the widget manager.\n",
        "    WidgetManager.register_widget_view('D3ForceDirectedGraphView', D3ForceDirectedGraphView);\n",
        "});"
       ],
       "metadata": {},
       "output_type": "display_data",
       "text": [
        "<IPython.core.display.Javascript at 0x7f1ada4221d0>"
       ]
      }
     ],
     "prompt_number": 13
    },
    {
     "cell_type": "markdown",
     "metadata": {},
     "source": [
      "Hook into the random_graphs NetworkX code. "
     ]
    },
    {
     "cell_type": "code",
     "collapsed": false,
     "input": [
      "from networkx.generators import random_graphs\n",
      "from networkx.generators import classic\n",
      "\n",
      "# Add a listener to the eventful graph's construction method.\n",
      "# If an eventful graph is created, build and show a widget\n",
      "# for the graph.\n",
      "def handle_graph(graph):\n",
      "    print(graph.graph._sleep)\n",
      "    popup = widgets.PopupWidget()\n",
      "    popup.description = \"NetworkX Graph\"\n",
      "    popup.button_text = \"Render Window\"\n",
      "    popup.set_css({\n",
      "        'width': '420px',\n",
      "        'height': '350px'}, selector='modal')\n",
      "    graph_widget = ForceDirectedGraphWidget(graph)\n",
      "    popup.children = [graph_widget]\n",
      "    display(popup)\n",
      "EventfulGraph.on_constructed(handle_graph)\n",
      "\n",
      "# Replace the empty graph of the networkx classic module with\n",
      "# the eventful graph type.\n",
      "random_graphs.empty_graph = empty_eventfulgraph_hook(sleep=0.2)"
     ],
     "language": "python",
     "metadata": {},
     "outputs": [],
     "prompt_number": 28
    },
    {
     "cell_type": "heading",
     "level": 2,
     "metadata": {},
     "source": [
      "Barabasi Albert"
     ]
    },
    {
     "cell_type": "code",
     "collapsed": false,
     "input": [
      "random_graphs.barabasi_albert_graph(15, 1)"
     ],
     "language": "python",
     "metadata": {},
     "outputs": [
      {
       "output_type": "stream",
       "stream": "stdout",
       "text": [
        "0.2\n"
       ]
      },
      {
       "metadata": {},
       "output_type": "pyout",
       "prompt_number": 41,
       "text": [
        "<eventful_graph.EventfulGraph at 0x7f1ae00409d0>"
       ]
      }
     ],
     "prompt_number": 41
    },
    {
     "cell_type": "code",
     "collapsed": false,
     "input": [
      "random_graphs.barabasi_albert_graph(15, 2)"
     ],
     "language": "python",
     "metadata": {},
     "outputs": [
      {
       "output_type": "stream",
       "stream": "stdout",
       "text": [
        "0.2\n"
       ]
      },
      {
       "metadata": {},
       "output_type": "pyout",
       "prompt_number": 16,
       "text": [
        "<eventful_graph.EventfulGraph at 0x7f1ada426210>"
       ]
      }
     ],
     "prompt_number": 16
    },
    {
     "cell_type": "code",
     "collapsed": false,
     "input": [
      "random_graphs.barabasi_albert_graph(10, 5)"
     ],
     "language": "python",
     "metadata": {},
     "outputs": [
      {
       "output_type": "stream",
       "stream": "stdout",
       "text": [
        "0.2\n"
       ]
      },
      {
       "metadata": {},
       "output_type": "pyout",
       "prompt_number": 17,
       "text": [
        "<eventful_graph.EventfulGraph at 0x7f1ada426390>"
       ]
      }
     ],
     "prompt_number": 17
    },
    {
     "cell_type": "heading",
     "level": 2,
     "metadata": {},
     "source": [
      "Newman Watts Strogatz"
     ]
    },
    {
     "cell_type": "code",
     "collapsed": false,
     "input": [
      "random_graphs.newman_watts_strogatz_graph(15, 3, 0.25)"
     ],
     "language": "python",
     "metadata": {},
     "outputs": [
      {
       "output_type": "stream",
       "stream": "stdout",
       "text": [
        "0.2\n"
       ]
      },
      {
       "metadata": {},
       "output_type": "pyout",
       "prompt_number": 42,
       "text": [
        "<eventful_graph.EventfulGraph at 0x7f1ada556790>"
       ]
      }
     ],
     "prompt_number": 42
    },
    {
     "cell_type": "heading",
     "level": 2,
     "metadata": {},
     "source": [
      "Barbell"
     ]
    },
    {
     "cell_type": "code",
     "collapsed": false,
     "input": [
      "classic.barbell_graph(5,0,create_using=EventfulGraph(sleep=0.1))"
     ],
     "language": "python",
     "metadata": {},
     "outputs": [
      {
       "output_type": "stream",
       "stream": "stdout",
       "text": [
        "0.1\n"
       ]
      },
      {
       "metadata": {},
       "output_type": "pyout",
       "prompt_number": 39,
       "text": [
        "<eventful_graph.EventfulGraph at 0x7f1ae011de10>"
       ]
      }
     ],
     "prompt_number": 39
    },
    {
     "cell_type": "heading",
     "level": 2,
     "metadata": {},
     "source": [
      "Circular Ladder"
     ]
    },
    {
     "cell_type": "code",
     "collapsed": false,
     "input": [
      "classic.circular_ladder_graph(5,create_using=EventfulGraph(sleep=0.1))"
     ],
     "language": "python",
     "metadata": {},
     "outputs": [
      {
       "output_type": "stream",
       "stream": "stdout",
       "text": [
        "0.1\n"
       ]
      },
      {
       "metadata": {},
       "output_type": "pyout",
       "prompt_number": 40,
       "text": [
        "<eventful_graph.EventfulGraph at 0x7f1ae0095a10>"
       ]
      }
     ],
     "prompt_number": 40
    },
    {
     "cell_type": "code",
     "collapsed": false,
     "input": [
      "classic.circular_ladder_graph(10,create_using=EventfulGraph(sleep=0.1))"
     ],
     "language": "python",
     "metadata": {},
     "outputs": [
      {
       "output_type": "stream",
       "stream": "stdout",
       "text": [
        "0.1\n"
       ]
      },
      {
       "metadata": {},
       "output_type": "pyout",
       "prompt_number": 38,
       "text": [
        "<eventful_graph.EventfulGraph at 0x7f1ae0044090>"
       ]
      }
     ],
     "prompt_number": 38
    },
    {
     "cell_type": "heading",
     "level": 2,
     "metadata": {},
     "source": [
      "Ladder"
     ]
    },
    {
     "cell_type": "code",
     "collapsed": false,
     "input": [
      "classic.ladder_graph(10,create_using=EventfulGraph(sleep=0.1))"
     ],
     "language": "python",
     "metadata": {},
     "outputs": [
      {
       "output_type": "stream",
       "stream": "stdout",
       "text": [
        "0.1\n"
       ]
      },
      {
       "metadata": {},
       "output_type": "pyout",
       "prompt_number": 45,
       "text": [
        "<eventful_graph.EventfulGraph at 0x7f1ae05e87d0>"
       ]
      }
     ],
     "prompt_number": 45
    },
    {
     "cell_type": "heading",
     "level": 2,
     "metadata": {},
     "source": [
      "Star"
     ]
    },
    {
     "cell_type": "code",
     "collapsed": false,
     "input": [
      "classic.star_graph(10,create_using=EventfulGraph(sleep=0.1))"
     ],
     "language": "python",
     "metadata": {},
     "outputs": [
      {
       "output_type": "stream",
       "stream": "stdout",
       "text": [
        "0.1\n"
       ]
      },
      {
       "metadata": {},
       "output_type": "pyout",
       "prompt_number": 44,
       "text": [
        "<eventful_graph.EventfulGraph at 0x7f1ae0040890>"
       ]
      }
     ],
     "prompt_number": 44
    }
   ],
   "metadata": {}
  }
 ]
}